{
 "cells": [
  {
   "cell_type": "markdown",
   "metadata": {},
   "source": [
    "<div style=\"background-color:rgb(255, 250, 240); padding:10px 0;  border: 1px solid lightgrey; padding-left: 1em; padding-right: 1em;\">\n",
    "\n",
    "# Binder Tutorial QC Analysis\n",
    "\n",
    "### <font color='red'>To begin: Click the top cell and press 'Run' on the toolbar (or shift-enter). Alternatively click Kernel, Restart and Run All.</font> \n",
    "\n",
    "\n",
    "## Table of Contents:\n",
    "1. [Import data](#1.) <br>\n",
    "2. [Visualisation](#2.)<br>\n",
    "   2.1. [Histagram of RSD](#2.1.)<br>\n",
    "   2.2. [Density plot of RSD vs. D-Ratio](#2.2.)<br>\n",
    "   2.3. [PCA score plot of QC vs. Sample](#2.3.)<br>\n",
    "   2.4. [Scatter plot of Molecular Weights vs. RT Time (sized by RSD)](#2.4.)<br>\n",
    "\n",
    "<a id=\"1.\"></a>\n",
    "## 1.  Import Data\n",
    "\n",
    "1. Import the readxl package (https://readxl.tidyverse.org/).<br>\n",
    "2. Import the excel sheet \"Data\" from excel file \"data.xlsx\" into a data frame called \"data\".<br>\n",
    "3. Display the number of rows and column.<br>\n",
    "4. Display the fist 10 rows at the top (head) of the data frame.<br>\n",
    "\n",
    "</div>"
   ]
  },
  {
   "cell_type": "code",
   "execution_count": null,
   "metadata": {},
   "outputs": [],
   "source": [
    "library(readxl) # import readxl\n",
    "\n",
    "data <- read_excel('data.xlsx', sheet='Data') # import data table\n",
    "head(data, 10) # view data table (top 10 rows)\n",
    "cat(\"Data Table:\", nrow(data), \"rows &\", ncol(data), \"columns\") # print\n",
    "\n",
    "peak <- read_excel('data.xlsx', sheet='Peak') # import peak table\n",
    "head(peak, 10) # view peak table (top 10 rows)\n",
    "cat(\"Peak Table:\", nrow(peak), \"rows &\", ncol(peak), \"columns\") # print"
   ]
  },
  {
   "cell_type": "markdown",
   "metadata": {},
   "source": [
    "<div style=\"background-color:rgb(255, 250, 240); padding:10px 0;  border: 1px solid lightgrey; padding-left: 1em; padding-right: 1em;\">\n",
    "\n",
    "<a id=\"2.\"></a>\n",
    "## 2. Visualisation\n",
    "\n",
    "#### <font color='red'>Note: Each cell in the Visualisation Section can be run in any order (provided data is imported in Section 1).</font> \n",
    "<br>\n",
    "\n",
    "<a id=\"2.1.\"></a>\n",
    "### 2.1. Histagram of RSD\n",
    "<br>\n",
    "</div>"
   ]
  },
  {
   "cell_type": "code",
   "execution_count": null,
   "metadata": {},
   "outputs": [],
   "source": [
    "library(ggplot2)\n",
    "options(repr.plot.width=4, repr.plot.height=3)\n",
    "\n",
    "qplot(peak$RSD,\n",
    "      geom=\"histogram\",\n",
    "      binwidth=0.5,\n",
    "      fill=I(\"lightgreen\"),\n",
    "      col=I(\"black\"),\n",
    "      xlab = \"RSD\")"
   ]
  },
  {
   "cell_type": "markdown",
   "metadata": {},
   "source": [
    "<div style=\"background-color:rgb(255, 250, 240); padding:10px 0;  border: 1px solid lightgrey; padding-left: 1em; padding-right: 1em;\">\n",
    "\n",
    "<a id=\"2.2.\"></a>\n",
    "### 2.2. Density plot of RSD vs. D-Ratio\n",
    "\n",
    "<br>\n",
    "\n",
    "</div>"
   ]
  },
  {
   "cell_type": "code",
   "execution_count": null,
   "metadata": {},
   "outputs": [],
   "source": [
    "library(ggplot2)\n",
    "options(repr.plot.width=5, repr.plot.height=4)\n",
    "\n",
    "# Area + contour\n",
    "ggplot(peak, aes(x=RSD, y=D_Ratio)) +\n",
    "    stat_density_2d(aes(fill=..level..), geom=\"polygon\", colour=\"white\") +\n",
    "    xlim(0,20) +\n",
    "    ylim(-0.05, 0.5)\n",
    "\n",
    "# Pearsons correlation\n",
    "corr_stats <- cor.test(peak$RSD, peak$D_Ratio, method=c(\"pearson\"))\n",
    "estimate = format(corr_stats$estimate, digits=2) # rounding\n",
    "p_val = format(corr_stats$p.value, digits=3) # rounding\n",
    "cat(\"pearsonr=\", estimate, \"; p=\", p_val) # print"
   ]
  },
  {
   "cell_type": "markdown",
   "metadata": {},
   "source": [
    "<div style=\"background-color:rgb(255, 250, 240); padding:10px 0;  border: 1px solid lightgrey; padding-left: 1em; padding-right: 1em;\">\n",
    "\n",
    "<a id=\"2.3.\"></a>\n",
    "### 2.3. PCA score plot of QC vs. Sample\n",
    "\n",
    "<br>\n",
    "</div>"
   ]
  },
  {
   "cell_type": "code",
   "execution_count": null,
   "metadata": {},
   "outputs": [],
   "source": [
    "library(dplyr, warn.conflicts=FALSE) # Supress 'the following object is masked' warning\n",
    "library(ggplot2)\n",
    "\n",
    "# Extract X matrix\n",
    "names = peak$Name\n",
    "X = select(data, names)\n",
    "\n",
    "# Fit PCA\n",
    "pca = prcomp(X, scale=TRUE)\n",
    "\n",
    "# Get scores\n",
    "scores = pca$x\n",
    "scores_df <- as.data.frame(scores)\n",
    "scores_df$SampleType = data$SampleType # add SampleType to scores table\n",
    "\n",
    "# Plot scores\n",
    "options(repr.plot.width=5, repr.plot.height=4)\n",
    "ggplot(scores_df, aes(x=PC1, y=PC2, color=SampleType)) + \n",
    "    geom_point(alpha=0.7, size=2) + \n",
    "    xlab('PC1') +\n",
    "    ylab('PC2') + \n",
    "    ggtitle('Quality Control PCA plot') "
   ]
  },
  {
   "cell_type": "markdown",
   "metadata": {},
   "source": [
    "<div style=\"background-color:rgb(255, 250, 240); padding:10px 0;  border: 1px solid lightgrey; padding-left: 1em; padding-right: 1em;\">\n",
    "\n",
    "<a id=\"2.4.\"></a>\n",
    "### 2.4. Scatter plot of Molecular Weights vs. RT Time (sized by RSD)\n",
    "\n",
    "<br>\n",
    "\n",
    "</div>"
   ]
  },
  {
   "cell_type": "code",
   "execution_count": null,
   "metadata": {},
   "outputs": [],
   "source": [
    "library(ggplot2)\n",
    "options(repr.plot.width=7, repr.plot.height=5)\n",
    "\n",
    "ggplot(peak, aes(x=Mol_Weight, y=RT_minutes)) + \n",
    "    geom_point(color='red', alpha=0.2, size=peak$RSD**2/120) + \n",
    "    xlab('Molecular Weight') +\n",
    "    ylab('RT minutes') + \n",
    "    ggtitle('Metabolites Detected (sized by RSD)')"
   ]
  },
  {
   "cell_type": "code",
   "execution_count": null,
   "metadata": {},
   "outputs": [],
   "source": []
  },
  {
   "cell_type": "code",
   "execution_count": null,
   "metadata": {},
   "outputs": [],
   "source": []
  }
 ],
 "metadata": {
  "kernelspec": {
   "display_name": "R",
   "language": "R",
   "name": "ir"
  },
  "language_info": {
   "codemirror_mode": "r",
   "file_extension": ".r",
   "mimetype": "text/x-r-source",
   "name": "R",
   "pygments_lexer": "r",
   "version": "3.5.1"
  },
  "toc": {
   "base_numbering": 1,
   "nav_menu": {},
   "number_sections": false,
   "sideBar": false,
   "skip_h1_title": false,
   "title_cell": "Table of Contents",
   "title_sidebar": "Contents",
   "toc_cell": false,
   "toc_position": {},
   "toc_section_display": false,
   "toc_window_display": false
  }
 },
 "nbformat": 4,
 "nbformat_minor": 2
}
