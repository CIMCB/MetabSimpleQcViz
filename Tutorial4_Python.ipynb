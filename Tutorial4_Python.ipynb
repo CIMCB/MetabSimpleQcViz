{
 "cells": [
  {
   "cell_type": "markdown",
   "metadata": {},
   "source": [
    "<div style=\"background-color:rgb(255, 250, 240); padding:10px 0;  border: 1px solid lightgrey; padding-left: 1em; padding-right: 1em;\">\n",
    "\n",
    "# Binder Tutorial QC Analysis\n",
    "\n",
    "### <font color='red'>To begin: Click the top cell and press 'Run' on the toolbar (or shift-enter). Alternatively click Kernel, Restart and Run All.</font> \n",
    "\n",
    "\n",
    "## Table of Contents:\n",
    "1. [Import data](#1.) <br>\n",
    "2. [Visualisation](#2.)<br>\n",
    "   2.1. [Histagram of RSD](#2.1.)<br>\n",
    "   2.2. [Jointplot of RSD vs. D-Ratio](#2.2.)<br>\n",
    "   2.3. [PCA score plot of QC vs. Sample](#2.3.)<br>\n",
    "   2.4. [Scatter plot of Molecular Weights vs. RT Time (sized by RSD)](#2.4.)<br>\n",
    "\n",
    "<br>\n",
    "<div style=\"background-color:rgb(240,248,255); padding:20px;  border: 1px solid lightgrey; padding-left: 1em; padding-right: 1em; font-size: 15px; font-style:italic;\">\n",
    "For more information on using Jupyter Notebooks refer to:<br> \n",
    "&nbsp;&nbsp;&nbsp;<a href=\"https://mybinder.org/v2/gh/jakevdp/PythonDataScienceHandbook/master?filepath=notebooks%2FIndex.ipynb\">Python Data Science Handbook by Jake VanderPlas (2016)</a>\n",
    "</div> \n",
    "\n",
    "<br>\n",
    "<div style=\"background-color:rgb(229, 255, 229); padding:20px;  border: 1px solid lightgrey; padding-left: 1em; padding-right: 1em; font-size: 15px; font-style:italic;\">\n",
    "For more information on using Jupyter Notebooks refer to:<br> \n",
    "&nbsp;&nbsp;&nbsp;<a href=\"https://mybinder.org/v2/gh/jakevdp/PythonDataScienceHandbook/master?filepath=notebooks%2FIndex.ipynb\">Python Data Science Handbook by Jake VanderPlas (2016)</a>\n",
    "</div> \n",
    "\n",
    "<br>\n",
    "<div style=\"background-color:rgb(255, 224, 224); padding:20px;  border: 1px solid lightgrey; padding-left: 1em; padding-right: 1em; font-size: 15px; font-style:italic;\">\n",
    "For more information on using Jupyter Notebooks refer to:<br> \n",
    "&nbsp;&nbsp;&nbsp;<a href=\"https://mybinder.org/v2/gh/jakevdp/PythonDataScienceHandbook/master?filepath=notebooks%2FIndex.ipynb\">Python Data Science Handbook by Jake VanderPlas (2016)</a>\n",
    "</div> \n",
    "\n",
    "\n",
    "\n",
    "\n",
    "<a id=\"1.\"></a>\n",
    "## 1.  Import Data\n",
    "\n",
    "1. Import the pandas python module ( https://pandas.pydata.org/ ).<br>\n",
    "2. Import the excel sheet \"Data\" from excel file \"data.xlsx\" into a data frame called \"data\".<br>\n",
    "3. Display the numbe of rows and column.<br>\n",
    "4. Display the fist 10 rows at the top (head) of the data frame.<br>\n",
    "\n",
    "</div>"
   ]
  },
  {
   "cell_type": "code",
   "execution_count": null,
   "metadata": {},
   "outputs": [],
   "source": [
    "import pandas as pd\n",
    "\n",
    "data = pd.read_excel('data.xlsx', sheet_name='Data') # import data sheet\n",
    "\n",
    "print(\"Data Table: {} rows & {} columns\".format(*data.shape))\n",
    "display(data.head(10)) # View data table (top 10 rows)\n",
    "\n",
    "peak = pd.read_excel('data.xlsx', sheet_name='Peak') # import peak sheet\n",
    "print(\"Peak Table: {} rows & {} columns\".format(*peak.shape))\n",
    "display(peak.head(10)) # View peak table (top 10 rows)"
   ]
  },
  {
   "cell_type": "markdown",
   "metadata": {},
   "source": [
    "<div style=\"background-color:rgb(255, 250, 240); padding:10px 0;  border: 1px solid lightgrey; padding-left: 1em; padding-right: 1em;\">\n",
    "\n",
    "<a id=\"2.\"></a>\n",
    "## 2. Visualisation\n",
    "\n",
    "#### <font color='red'>Note: Each cell in the Visualisation Section can be run in any order (provided data is imported in Section 1).</font> \n",
    "<br>\n",
    "\n",
    "<a id=\"2.1.\"></a>\n",
    "### 2.1. Histagram of RSD\n",
    "<br>\n",
    "</div>"
   ]
  },
  {
   "cell_type": "code",
   "execution_count": null,
   "metadata": {},
   "outputs": [],
   "source": [
    "import matplotlib.pyplot as plt\n",
    "\n",
    "# Ensures plots are shown inline on Jupyter Notebooks\n",
    "%matplotlib inline\n",
    "\n",
    "fig = plt.figure(figsize=(6,5))\n",
    "plt.hist(peak.RSD, 50, density=True, facecolor='g', alpha=0.5) # plt.hist computes and draws the histogram of RSD \n",
    "plt.xlabel('RSD', fontsize=15)\n",
    "plt.show()"
   ]
  },
  {
   "cell_type": "markdown",
   "metadata": {},
   "source": [
    "<div style=\"background-color:rgb(255, 250, 240); padding:10px 0;  border: 1px solid lightgrey; padding-left: 1em; padding-right: 1em;\">\n",
    "\n",
    "<a id=\"2.2.\"></a>\n",
    "### 2.2. Jointplot of RSD vs. D-Ratio\n",
    "\n",
    "<br>\n",
    "\n",
    "</div>"
   ]
  },
  {
   "cell_type": "code",
   "execution_count": null,
   "metadata": {},
   "outputs": [],
   "source": [
    "import seaborn as sns\n",
    "\n",
    "sns.jointplot(x=peak.RSD, y=peak.D_Ratio, kind='kde', color=\"skyblue\") # plot of RSD and D_ratio with bivariate and univariate graphs."
   ]
  },
  {
   "cell_type": "markdown",
   "metadata": {},
   "source": [
    "<div style=\"background-color:rgb(255, 250, 240); padding:10px 0;  border: 1px solid lightgrey; padding-left: 1em; padding-right: 1em;\">\n",
    "\n",
    "<a id=\"2.3.\"></a>\n",
    "### 2.3. PCA score plot of QC vs. Sample\n",
    "\n",
    "<br>\n",
    "</div>"
   ]
  },
  {
   "cell_type": "code",
   "execution_count": null,
   "metadata": {},
   "outputs": [],
   "source": [
    "# Import\n",
    "import numpy as np\n",
    "from sklearn.decomposition import PCA\n",
    "from sklearn.preprocessing import StandardScaler\n",
    "import matplotlib.pyplot as plt\n",
    "from matplotlib.colors import ListedColormap\n",
    "\n",
    "# Extract X matrix\n",
    "names = peak['Name']\n",
    "x = data[names].values\n",
    "x = np.log(x)\n",
    "x = StandardScaler().fit_transform(x)\n",
    "\n",
    "# Create and fit PCA\n",
    "pca = PCA(n_components=2)\n",
    "scores = pca.fit_transform(x)\n",
    "label = data['SampleType']\n",
    "\n",
    "# Split scores into sample and QC\n",
    "Sample_scores = scores[label == 'Sample',:]\n",
    "QC_scores = scores[label == 'QC',:]\n",
    "\n",
    "# Plot Sample score and QC score\n",
    "fig = plt.figure(figsize=(8,8))\n",
    "h1 = plt.scatter(Sample_scores[:,0],Sample_scores[:,1],edgecolors='Black', facecolors='Green',s=100,alpha=0.5)\n",
    "h2 = plt.scatter(QC_scores[:,0],QC_scores[:,1], edgecolors='Black', facecolors='Red',s=100,alpha=0.5)\n",
    "\n",
    "# Add legend, labels, and title\n",
    "plt.legend((h1,h2),('Sample','QC'),fontsize=15)\n",
    "plt.xlabel('PC1', fontsize=15)\n",
    "plt.ylabel('PC2', fontsize=15)\n",
    "plt.title('Quality Control PCA plot',fontsize=20)\n",
    "\n",
    "# Show plot\n",
    "plt.show()"
   ]
  },
  {
   "cell_type": "markdown",
   "metadata": {},
   "source": [
    "<div style=\"background-color:rgb(255, 250, 240); padding:10px 0;  border: 1px solid lightgrey; padding-left: 1em; padding-right: 1em;\">\n",
    "\n",
    "<a id=\"2.4.\"></a>\n",
    "### 2.4. Scatter plot of Molecular Weights vs. RT Time (sized by RSD)\n",
    "\n",
    "<br>\n",
    "\n",
    "</div>"
   ]
  },
  {
   "cell_type": "code",
   "execution_count": null,
   "metadata": {},
   "outputs": [],
   "source": [
    "# Scatterplot of Mol_Weight vs. RT_minute with size RSD^2/2, and colour red\n",
    "fig = plt.figure(figsize=(20,16))\n",
    "plt.scatter(peak.Mol_Weight, peak.RT_minutes, s=peak.RSD**2/2, alpha=0.2, edgecolors='k', c='r') \n",
    "plt.xlabel('Molecular Weight', fontsize=15)\n",
    "plt.ylabel('RT minutes', fontsize=15)\n",
    "plt.title('Metabolites Detected (sized by RSD)',fontsize=20)\n",
    "plt.show()"
   ]
  },
  {
   "cell_type": "code",
   "execution_count": null,
   "metadata": {},
   "outputs": [],
   "source": []
  },
  {
   "cell_type": "code",
   "execution_count": null,
   "metadata": {},
   "outputs": [],
   "source": []
  }
 ],
 "metadata": {
  "kernelspec": {
   "display_name": "Python 3",
   "language": "python",
   "name": "python3"
  },
  "language_info": {
   "codemirror_mode": {
    "name": "ipython",
    "version": 3
   },
   "file_extension": ".py",
   "mimetype": "text/x-python",
   "name": "python",
   "nbconvert_exporter": "python",
   "pygments_lexer": "ipython3",
   "version": "3.6.8"
  },
  "toc": {
   "base_numbering": 1,
   "nav_menu": {},
   "number_sections": false,
   "sideBar": false,
   "skip_h1_title": false,
   "title_cell": "Table of Contents",
   "title_sidebar": "Contents",
   "toc_cell": false,
   "toc_position": {},
   "toc_section_display": false,
   "toc_window_display": false
  }
 },
 "nbformat": 4,
 "nbformat_minor": 2
}
